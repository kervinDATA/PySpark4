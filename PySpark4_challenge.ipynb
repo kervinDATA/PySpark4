{
 "cells": [
  {
   "cell_type": "markdown",
   "id": "b8e0e777-31f0-4320-b736-f4c56f1112ac",
   "metadata": {},
   "source": [
    "## Challenge: MovieLens Database Analysis"
   ]
  },
  {
   "cell_type": "code",
   "execution_count": 5,
   "id": "2cdf35ad-b394-45fa-9004-9c6ceff7f778",
   "metadata": {},
   "outputs": [
    {
     "name": "stdout",
     "output_type": "stream",
     "text": [
      "+-------+-------+------+---------+\n",
      "|user_id|movieID|rating|timestamp|\n",
      "+-------+-------+------+---------+\n",
      "|    196|    242|     3|881250949|\n",
      "|    186|    302|     3|891717742|\n",
      "|     22|    377|     1|878887116|\n",
      "|    244|     51|     2|880606923|\n",
      "|    166|    346|     1|886397596|\n",
      "+-------+-------+------+---------+\n",
      "only showing top 5 rows\n",
      "\n"
     ]
    }
   ],
   "source": [
    "from pyspark.sql import SparkSession\n",
    "from pyspark.sql import functions as F\n",
    "\n",
    "spark = SparkSession.builder.appName(\"DataFrame\").getOrCreate()\n",
    "\n",
    "df = spark.read.option(\"sep\", \"\\t\").option(\"inferSchema\", \"true\").option(\"header\", \"false\").csv(\"/data/u.data\")\n",
    "\n",
    "# Ajout noms des colonnes\n",
    "df = df.withColumnRenamed(\"_c0\", \"user_id\").withColumnRenamed(\"_c1\", \"movieID\").withColumnRenamed(\"_c2\", \"rating\").withColumnRenamed(\"_c3\", \"timestamp\")\n",
    "\n",
    "# Affichage des 5 premières lignes\n",
    "df.show(5)"
   ]
  },
  {
   "cell_type": "code",
   "execution_count": null,
   "id": "6f7c2db3-be40-4900-a00c-41ed8a15a9d8",
   "metadata": {},
   "outputs": [],
   "source": []
  },
  {
   "cell_type": "markdown",
   "id": "c89bf5b7-de57-44b0-85bb-121281577b13",
   "metadata": {},
   "source": [
    "### Ratings Count: Calculate the number of ratings received by each movie using data from u.data. // Sorting: Order the movies from the most to the least number of ratings."
   ]
  },
  {
   "cell_type": "code",
   "execution_count": 7,
   "id": "28ae270f-9c9e-4d72-8910-ce5ef8e25102",
   "metadata": {},
   "outputs": [
    {
     "name": "stdout",
     "output_type": "stream",
     "text": [
      "+-------+-----+\n",
      "|movieID|count|\n",
      "+-------+-----+\n",
      "|     50|  583|\n",
      "|    258|  509|\n",
      "|    100|  508|\n",
      "|    181|  507|\n",
      "|    294|  485|\n",
      "|    286|  481|\n",
      "|    288|  478|\n",
      "|      1|  452|\n",
      "|    300|  431|\n",
      "|    121|  429|\n",
      "|    174|  420|\n",
      "|    127|  413|\n",
      "|     56|  394|\n",
      "|      7|  392|\n",
      "|     98|  390|\n",
      "|    237|  384|\n",
      "|    117|  378|\n",
      "|    172|  367|\n",
      "|    222|  365|\n",
      "|    204|  350|\n",
      "+-------+-----+\n",
      "only showing top 20 rows\n",
      "\n"
     ]
    }
   ],
   "source": [
    "ratings_count_df = df.groupBy(\"movieID\") \\\n",
    "    .agg(F.count(\"rating\").alias(\"count\")) \\\n",
    "    .sort(F.desc(\"count\"))\n",
    "\n",
    "ratings_count_df.show()"
   ]
  },
  {
   "cell_type": "code",
   "execution_count": null,
   "id": "a0d959af-2c5d-4723-a855-26c7f8f3a6cc",
   "metadata": {},
   "outputs": [],
   "source": []
  },
  {
   "cell_type": "markdown",
   "id": "8f5fbfe5-306d-4e7a-80f4-9a491e1e516f",
   "metadata": {},
   "source": [
    "### Name Enrichment: Utilize a broadcast variable to import movie titles from u.item and append them to your dataset."
   ]
  },
  {
   "cell_type": "code",
   "execution_count": 8,
   "id": "04bd1969-0190-4515-a44e-8dea556b45f8",
   "metadata": {
    "scrolled": true
   },
   "outputs": [
    {
     "name": "stdout",
     "output_type": "stream",
     "text": [
      "+-------+--------------------+-----------+----+--------------------+---+---+---+---+---+----+----+----+----+----+----+----+----+----+----+----+----+----+----+\n",
      "|movieID|          movieTitle|        _c2| _c3|                 _c4|_c5|_c6|_c7|_c8|_c9|_c10|_c11|_c12|_c13|_c14|_c15|_c16|_c17|_c18|_c19|_c20|_c21|_c22|_c23|\n",
      "+-------+--------------------+-----------+----+--------------------+---+---+---+---+---+----+----+----+----+----+----+----+----+----+----+----+----+----+----+\n",
      "|      1|    Toy Story (1995)|01-Jan-1995|NULL|http://us.imdb.co...|  0|  0|  0|  1|  1|   1|   0|   0|   0|   0|   0|   0|   0|   0|   0|   0|   0|   0|   0|\n",
      "|      2|    GoldenEye (1995)|01-Jan-1995|NULL|http://us.imdb.co...|  0|  1|  1|  0|  0|   0|   0|   0|   0|   0|   0|   0|   0|   0|   0|   0|   1|   0|   0|\n",
      "|      3|   Four Rooms (1995)|01-Jan-1995|NULL|http://us.imdb.co...|  0|  0|  0|  0|  0|   0|   0|   0|   0|   0|   0|   0|   0|   0|   0|   0|   1|   0|   0|\n",
      "|      4|   Get Shorty (1995)|01-Jan-1995|NULL|http://us.imdb.co...|  0|  1|  0|  0|  0|   1|   0|   0|   1|   0|   0|   0|   0|   0|   0|   0|   0|   0|   0|\n",
      "|      5|      Copycat (1995)|01-Jan-1995|NULL|http://us.imdb.co...|  0|  0|  0|  0|  0|   0|   1|   0|   1|   0|   0|   0|   0|   0|   0|   0|   1|   0|   0|\n",
      "|      6|Shanghai Triad (Y...|01-Jan-1995|NULL|http://us.imdb.co...|  0|  0|  0|  0|  0|   0|   0|   0|   1|   0|   0|   0|   0|   0|   0|   0|   0|   0|   0|\n",
      "|      7|Twelve Monkeys (1...|01-Jan-1995|NULL|http://us.imdb.co...|  0|  0|  0|  0|  0|   0|   0|   0|   1|   0|   0|   0|   0|   0|   0|   1|   0|   0|   0|\n",
      "|      8|         Babe (1995)|01-Jan-1995|NULL|http://us.imdb.co...|  0|  0|  0|  0|  1|   1|   0|   0|   1|   0|   0|   0|   0|   0|   0|   0|   0|   0|   0|\n",
      "|      9|Dead Man Walking ...|01-Jan-1995|NULL|http://us.imdb.co...|  0|  0|  0|  0|  0|   0|   0|   0|   1|   0|   0|   0|   0|   0|   0|   0|   0|   0|   0|\n",
      "|     10|  Richard III (1995)|22-Jan-1996|NULL|http://us.imdb.co...|  0|  0|  0|  0|  0|   0|   0|   0|   1|   0|   0|   0|   0|   0|   0|   0|   0|   1|   0|\n",
      "|     11|Seven (Se7en) (1995)|01-Jan-1995|NULL|http://us.imdb.co...|  0|  0|  0|  0|  0|   0|   1|   0|   0|   0|   0|   0|   0|   0|   0|   0|   1|   0|   0|\n",
      "|     12|Usual Suspects, T...|14-Aug-1995|NULL|http://us.imdb.co...|  0|  0|  0|  0|  0|   0|   1|   0|   0|   0|   0|   0|   0|   0|   0|   0|   1|   0|   0|\n",
      "|     13|Mighty Aphrodite ...|30-Oct-1995|NULL|http://us.imdb.co...|  0|  0|  0|  0|  0|   1|   0|   0|   0|   0|   0|   0|   0|   0|   0|   0|   0|   0|   0|\n",
      "|     14|  Postino, Il (1994)|01-Jan-1994|NULL|http://us.imdb.co...|  0|  0|  0|  0|  0|   0|   0|   0|   1|   0|   0|   0|   0|   0|   1|   0|   0|   0|   0|\n",
      "|     15|Mr. Holland's Opu...|29-Jan-1996|NULL|http://us.imdb.co...|  0|  0|  0|  0|  0|   0|   0|   0|   1|   0|   0|   0|   0|   0|   0|   0|   0|   0|   0|\n",
      "|     16|French Twist (Gaz...|01-Jan-1995|NULL|http://us.imdb.co...|  0|  0|  0|  0|  0|   1|   0|   0|   0|   0|   0|   0|   0|   0|   1|   0|   0|   0|   0|\n",
      "|     17|From Dusk Till Da...|05-Feb-1996|NULL|http://us.imdb.co...|  0|  1|  0|  0|  0|   1|   1|   0|   0|   0|   0|   1|   0|   0|   0|   0|   1|   0|   0|\n",
      "|     18|White Balloon, Th...|01-Jan-1995|NULL|http://us.imdb.co...|  0|  0|  0|  0|  0|   0|   0|   0|   1|   0|   0|   0|   0|   0|   0|   0|   0|   0|   0|\n",
      "|     19|Antonia's Line (1...|01-Jan-1995|NULL|http://us.imdb.co...|  0|  0|  0|  0|  0|   0|   0|   0|   1|   0|   0|   0|   0|   0|   0|   0|   0|   0|   0|\n",
      "|     20|Angels and Insect...|01-Jan-1995|NULL|http://us.imdb.co...|  0|  0|  0|  0|  0|   0|   0|   0|   1|   0|   0|   0|   0|   0|   1|   0|   0|   0|   0|\n",
      "+-------+--------------------+-----------+----+--------------------+---+---+---+---+---+----+----+----+----+----+----+----+----+----+----+----+----+----+----+\n",
      "only showing top 20 rows\n",
      "\n"
     ]
    }
   ],
   "source": [
    "# Charger le fichier u.item\n",
    "movies_df = spark.read.option(\"sep\", \"|\").option(\"inferSchema\", \"true\").option(\"header\", \"false\").csv(\"/data/u.item\")\n",
    "movies_df = movies_df.withColumnRenamed(\"_c0\", \"movieID\") \\\n",
    "                     .withColumnRenamed(\"_c1\", \"movieTitle\")\n",
    "\n",
    "movies_df.show()"
   ]
  },
  {
   "cell_type": "code",
   "execution_count": 11,
   "id": "cf8702c5-9f3d-4cc6-925f-c751756dba41",
   "metadata": {},
   "outputs": [],
   "source": [
    "# Créer un dictionnaire contenant les titres des films avec leurs IDs comme clés\n",
    "movie_titles = {row[\"movieID\"]: row[\"movieTitle\"] for row in movies_df.select(\"movieID\", \"movieTitle\").collect()}\n",
    "#print(movie_titles)"
   ]
  },
  {
   "cell_type": "code",
   "execution_count": 12,
   "id": "62684371-0b84-4ff3-ab9b-5c449dd184a5",
   "metadata": {},
   "outputs": [],
   "source": [
    "# Créer une Broadcast Variable pour les titres de films\n",
    "broadcastVar = spark.sparkContext.broadcast(movie_titles)"
   ]
  },
  {
   "cell_type": "code",
   "execution_count": 13,
   "id": "24b5c905-ff4a-4680-8367-bfa0e126a0f3",
   "metadata": {},
   "outputs": [],
   "source": [
    "# Créer une UDF pour récupérer le titre du film à partir de l'ID\n",
    "def get_movie_title(movieID):\n",
    "    return broadcastVar.value.get(movieID, \"Unknown\")"
   ]
  },
  {
   "cell_type": "code",
   "execution_count": 14,
   "id": "67e6653c-ec5f-4dcf-9849-5c4881d90e95",
   "metadata": {},
   "outputs": [],
   "source": [
    "get_movie_title_UDF = F.udf(get_movie_title)"
   ]
  },
  {
   "cell_type": "code",
   "execution_count": 18,
   "id": "83c7385c-faaf-4ca8-a577-08e896ada62a",
   "metadata": {},
   "outputs": [],
   "source": [
    "# Ajouter le titre du film au DataFrame des comptes de notes\n",
    "df_with_titles = ratings_count_df.withColumn(\"movieTitle\", get_movie_title_UDF(ratings_count_df[\"movieID\"]))"
   ]
  },
  {
   "cell_type": "code",
   "execution_count": 19,
   "id": "e27b13f8-4a85-46a7-82b6-fdfeda571f74",
   "metadata": {},
   "outputs": [
    {
     "name": "stdout",
     "output_type": "stream",
     "text": [
      "+-------+-----+--------------------+\n",
      "|movieID|count|          movieTitle|\n",
      "+-------+-----+--------------------+\n",
      "|     50|  583|    Star Wars (1977)|\n",
      "|    258|  509|      Contact (1997)|\n",
      "|    100|  508|        Fargo (1996)|\n",
      "|    181|  507|Return of the Jed...|\n",
      "|    294|  485|    Liar Liar (1997)|\n",
      "|    286|  481|English Patient, ...|\n",
      "|    288|  478|       Scream (1996)|\n",
      "|      1|  452|    Toy Story (1995)|\n",
      "|    300|  431|Air Force One (1997)|\n",
      "|    121|  429|Independence Day ...|\n",
      "|    174|  420|Raiders of the Lo...|\n",
      "|    127|  413|Godfather, The (1...|\n",
      "|     56|  394| Pulp Fiction (1994)|\n",
      "|      7|  392|Twelve Monkeys (1...|\n",
      "|     98|  390|Silence of the La...|\n",
      "|    237|  384|Jerry Maguire (1996)|\n",
      "|    117|  378|    Rock, The (1996)|\n",
      "|    172|  367|Empire Strikes Ba...|\n",
      "|    222|  365|Star Trek: First ...|\n",
      "|    204|  350|Back to the Futur...|\n",
      "+-------+-----+--------------------+\n",
      "only showing top 20 rows\n",
      "\n"
     ]
    }
   ],
   "source": [
    "df_with_titles.show()"
   ]
  },
  {
   "cell_type": "code",
   "execution_count": null,
   "id": "98308948-da96-4254-8e06-a5e7c58b56b1",
   "metadata": {},
   "outputs": [],
   "source": []
  },
  {
   "cell_type": "code",
   "execution_count": null,
   "id": "913f15fa-ffbd-4ddd-a0f6-d83c74fdd99a",
   "metadata": {},
   "outputs": [],
   "source": []
  },
  {
   "cell_type": "code",
   "execution_count": null,
   "id": "843cb202-b3b2-4d4a-9135-ad86fd4db0a4",
   "metadata": {},
   "outputs": [],
   "source": []
  },
  {
   "cell_type": "code",
   "execution_count": 20,
   "id": "27e1d0f2-c242-494f-94db-841989e3318b",
   "metadata": {},
   "outputs": [],
   "source": [
    "# Arrêt de la SparkSession\n",
    "spark.stop()"
   ]
  },
  {
   "cell_type": "code",
   "execution_count": null,
   "id": "85d9c8aa-f8f3-4002-ac7d-666a32b5ff86",
   "metadata": {},
   "outputs": [],
   "source": []
  }
 ],
 "metadata": {
  "kernelspec": {
   "display_name": "Python 3 (ipykernel)",
   "language": "python",
   "name": "python3"
  },
  "language_info": {
   "codemirror_mode": {
    "name": "ipython",
    "version": 3
   },
   "file_extension": ".py",
   "mimetype": "text/x-python",
   "name": "python",
   "nbconvert_exporter": "python",
   "pygments_lexer": "ipython3",
   "version": "3.11.6"
  }
 },
 "nbformat": 4,
 "nbformat_minor": 5
}
